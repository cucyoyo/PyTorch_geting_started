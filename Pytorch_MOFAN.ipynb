{
 "cells": [
  {
   "cell_type": "markdown",
   "metadata": {},
   "source": [
    "## 关系拟合"
   ]
  },
  {
   "cell_type": "markdown",
   "metadata": {},
   "source": [
    "#### 建立数据集"
   ]
  },
  {
   "cell_type": "code",
   "execution_count": null,
   "metadata": {},
   "outputs": [],
   "source": [
    "import torch\n",
    "from torch.autograd import Variable\n",
    "import matplotlib.pyplot as plt\n",
    "\n",
    "# unsqueeze把以为数据变成二维，torch只能处理二维数据\n",
    "x = torch.unsqueeze(torch.linspace(-1, 1, 100), dim=1)  # x data (tensor), shape=(100, 1)\n",
    "# y是x二次方+噪点\n",
    "y = x.pow(2) + 0.2*torch.rand(x.size())                 # noisy y data (tensor), shape=(100, 1)\n",
    "\n",
    "# 用 Variable 来修饰这些数据 tensor\n",
    "x, y = torch.autograd.Variable(x), Variable(y)\n",
    "\n",
    "# 画图\n",
    "plt.scatter(x.data.numpy(), y.data.numpy())\n",
    "plt.show()"
   ]
  },
  {
   "cell_type": "markdown",
   "metadata": {},
   "source": [
    "#### 创建神经网络的通用模式"
   ]
  },
  {
   "cell_type": "code",
   "execution_count": null,
   "metadata": {},
   "outputs": [],
   "source": [
    "class Net(torch.nn.Module):  # 继承 torch 的 Module\n",
    "    def __init__(self):\n",
    "        super(Net, self).__init__()     # 继承 __init__ 功能\n",
    "        \n",
    "    def forward(self, x):   # 这同时也是 Module 中的 forward 功能\n",
    "        pass"
   ]
  },
  {
   "cell_type": "markdown",
   "metadata": {},
   "source": [
    "#### 建立神经网路 + 训练神经网络"
   ]
  },
  {
   "cell_type": "code",
   "execution_count": null,
   "metadata": {},
   "outputs": [],
   "source": [
    "\n",
    "import torch\n",
    "from torch.autograd import Variable\n",
    "import torch.nn.functional as F     # 激励函数都在这\n",
    "import matplotlib.pyplot as plt\n",
    "\n",
    "\n",
    "#### 建立数据集\n",
    "# unsqueeze把以为数据变成二维，torch只能处理二维数据\n",
    "x = torch.unsqueeze(torch.linspace(-1, 1, 100), dim=1)  # x data (tensor), shape=(100, 1)\n",
    "# y是x二次方+噪点\n",
    "y = x.pow(2) + 0.2*torch.rand(x.size())                 # noisy y data (tensor), shape=(100, 1)\n",
    "\n",
    "# 用 Variable 来修饰这些数据 tensor\n",
    "x, y = torch.autograd.Variable(x), Variable(y)\n",
    "\n",
    "\n",
    "#### 建立神经网络\n",
    "class Net(torch.nn.Module):  # 继承 torch 的 Module\n",
    "    ##### 定义\n",
    "    def __init__(self, n_feature, n_hidden, n_output):# n_feature, n_hidden, n_output分别是输入层、隐藏层、输出层\n",
    "        super(Net, self).__init__()     # 继承 __init__ 功能\n",
    "        # 定义每层用什么样的形式\n",
    "        self.hidden = torch.nn.Linear(n_feature, n_hidden)   # 隐藏层线性输出\n",
    "        self.predict = torch.nn.Linear(n_hidden, n_output)   # 输出层线性输出\n",
    "    #### 搭建\n",
    "    def forward(self, x):   # 这同时也是 Module 中的 forward 功能\n",
    "        # 正向传播输入值, 神经网络分析出输出值\n",
    "        x = F.relu(self.hidden(x))      # 激励函数(隐藏层的线性值)\n",
    "        # 预测时这里不用激励函数\n",
    "        x = self.predict(x)             # 输出值\n",
    "        return x\n",
    "\n",
    "net = Net(n_feature=1, n_hidden=10, n_output=1)# 输入值：1；隐藏层：10；输出层：1\n",
    "\n",
    "print(net)  # net 的结构\n",
    "\n",
    "\n",
    "plt.ion()   # 设置plt为实时打印的方式\n",
    "plt.show()\n",
    "\n",
    "\n",
    "#### 训练网络\n",
    "# optimizer 是训练的工具\n",
    "optimizer = torch.optim.SGD(net.parameters(), lr=0.5)  # 优化器： 传入 net 的所有参数, lr是学习率\n",
    "loss_func = torch.nn.MSELoss()      # 预测值和真实值的误差计算公式 (均方差)\n",
    "\n",
    "for t in range(100):\n",
    "    prediction = net(x)     # 喂给 net 训练数据 x, 输出预测值\n",
    "\n",
    "    loss = loss_func(prediction, y)     # 计算两者的误差；prediction在前，真实值y在后\n",
    "\n",
    "    optimizer.zero_grad()   # 清空上一步的残余更新参数值；（将optimizer的梯度设为0）\n",
    "    loss.backward()         # 误差反向传播, 计算参数更新值（反向传递）\n",
    "    optimizer.step()        # 将参数更新值施加到 net 的 parameters 上（以学习效率0.5优化步骤）\n",
    "    \n",
    "    # 每5步plt显示一次，显示神经网络的训练过程\n",
    "    if t % 5 == 0:\n",
    "        plt.cla()\n",
    "        plt.scatter(x.data.numpy(), y.data.numpy())# 原始数据\n",
    "        plt.plot(x.data.numpy(), prediction.data.numpy(), 'r-', lw=5)# 预测数据\n",
    "        # 当前误差\n",
    "        plt.text(0.5, 0, 'Loss=%.4f' % loss.data[0], fontdict={'size': 20, 'color':  'red'})\n",
    "        plt.pause(0.1)  \n",
    "\n",
    "\n",
    "# plt.ioff()\n",
    "# plt.show()\n",
    "    \n",
    "    \n"
   ]
  },
  {
   "cell_type": "markdown",
   "metadata": {},
   "source": [
    "#### 训练网络"
   ]
  },
  {
   "cell_type": "code",
   "execution_count": null,
   "metadata": {},
   "outputs": [],
   "source": []
  },
  {
   "cell_type": "code",
   "execution_count": null,
   "metadata": {},
   "outputs": [],
   "source": []
  },
  {
   "cell_type": "code",
   "execution_count": null,
   "metadata": {},
   "outputs": [],
   "source": []
  },
  {
   "cell_type": "code",
   "execution_count": null,
   "metadata": {},
   "outputs": [],
   "source": []
  },
  {
   "cell_type": "code",
   "execution_count": null,
   "metadata": {},
   "outputs": [],
   "source": []
  },
  {
   "cell_type": "code",
   "execution_count": null,
   "metadata": {},
   "outputs": [],
   "source": []
  },
  {
   "cell_type": "code",
   "execution_count": null,
   "metadata": {},
   "outputs": [],
   "source": []
  }
 ],
 "metadata": {
  "kernelspec": {
   "display_name": "Python 3",
   "language": "python",
   "name": "python3"
  },
  "language_info": {
   "codemirror_mode": {
    "name": "ipython",
    "version": 3
   },
   "file_extension": ".py",
   "mimetype": "text/x-python",
   "name": "python",
   "nbconvert_exporter": "python",
   "pygments_lexer": "ipython3",
   "version": "3.5.3"
  }
 },
 "nbformat": 4,
 "nbformat_minor": 2
}
